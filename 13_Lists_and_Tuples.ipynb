{
  "nbformat": 4,
  "nbformat_minor": 0,
  "metadata": {
    "colab": {
      "name": "Lists and Tuples.ipynb",
      "provenance": [],
      "include_colab_link": true
    },
    "kernelspec": {
      "name": "python3",
      "display_name": "Python 3"
    },
    "language_info": {
      "name": "python"
    }
  },
  "cells": [
    {
      "cell_type": "markdown",
      "metadata": {
        "id": "view-in-github",
        "colab_type": "text"
      },
      "source": [
        "<a href=\"https://colab.research.google.com/github/ind222/python-fundamentals/blob/main/13_Lists_and_Tuples.ipynb\" target=\"_parent\"><img src=\"https://colab.research.google.com/assets/colab-badge.svg\" alt=\"Open In Colab\"/></a>"
      ]
    },
    {
      "cell_type": "markdown",
      "metadata": {
        "id": "Z-M-RCWATK71"
      },
      "source": [
        "\n",
        "\n",
        "\n",
        "\n",
        "\n",
        "\n",
        "\n",
        "\n",
        "\n",
        "\n",
        "\n",
        "\n",
        "# Lists and tuples\n",
        "\n",
        "Often we need to store a number of single items of data together so that they can be processed together. This might be because all the data refers to one person (e.g. name, age, gender, etc) OR it might be because we have a set of data (e.g. all the items that should be displayed in a drop down list, such as all the years from this year back to 100 years ago so that someone can select their year of birth)\n",
        "\n",
        "Python has a range of data structures available including:\n",
        "*   lists  \n",
        "*   tuples  \n",
        "*   dictionaries  \n",
        "*   sets\n",
        "\n",
        "This worksheet looks at lists and tuples.\n",
        "\n",
        "## List\n",
        "A list is a set of related, individual data objects, that are indexed and can be processed as a whole, as subsets or as individual items.  Lists are stored, essentially, as contiguous items in memory so that access can be as quick as possible.  However, they are mutable (they can be changed after they are created and stored) and so those mechanisms need to include extra functionality to deal with changing list sizes.\n",
        "\n",
        "## Tuple\n",
        "Essentially the same as a list but it is immutable.  Once it has been created it can't be changed.  It is stored in memory as contiguous items, with the size required being fixed right from the start.  This makes it faster to access.\n",
        "\n",
        "The code below will create two lists and a tuple.\n",
        "*   the first list contains 1000 random numbers between 1 and 100\n",
        "*   the second list is of random length (up to 5000) and each item is one of the 9 characteristics that are protected under the Equality Act in the UK.\n",
        "*   the tuple contains the 9 protected characteristics\n",
        "\n",
        "Before you start the exercises, run the code below.  It will generate the lists and tuple so that you can use them in the exercises.  If you need to recreate the lists again (because you have changed them and need to work on the originals, just run this cell again).\n",
        "\n",
        "***Note:***  *a list variable contains a reference to the start of the list in memory, rather than storing the list itself.  This means that if you assign the list to another variable (to make a copy), it will only copy across the reference.  If you change the copy, you change the original list.*\n",
        "\n",
        "*If you need to make a copy of the list you will need to use a loop to create a new list and copy all items across.*"
      ]
    },
    {
      "cell_type": "code",
      "metadata": {
        "id": "BDRckXeQXFMT"
      },
      "source": [
        "from random import randint, choice\n",
        "\n",
        "def get_num_list():\n",
        "  num_list = [randint(1,100) for n in range(1000)]\n",
        "  return num_list\n",
        "\n",
        "def get_protected_characteristics():\n",
        "  characteristics_tuple = ('age','disability','gender reassignment','marriage and civil partnership','pregnancy and maternity','race','religion or belief','sex','sexual orientation')\n",
        "  return characteristics_tuple\n",
        "\n",
        "def get_protected_characteristic_list(protected_characteristics):\n",
        "  char_list = [choice(protected_characteristics) for ch in range(randint(1,5000))]\n",
        "  return char_list\n",
        "\n",
        "nums = get_num_list()\n",
        "protected_characteristics = get_protected_characteristics()\n",
        "characteristics = get_protected_characteristic_list(protected_characteristics)"
      ],
      "execution_count": null,
      "outputs": []
    },
    {
      "cell_type": "markdown",
      "metadata": {
        "id": "xXT38-4ZV45n"
      },
      "source": [
        "## The exercises below will use the lists:  \n",
        "*   **nums** (a list of between 1 and 1000 random numbers, each number is between 0 and 1000)\n",
        "*   **characteristics** (a list of 5000 random protected_characteristics)\n",
        "\n",
        "and the tuple:\n",
        "*  **protected_characteristics** (a set of the 9 protected characteristics identified in the Equality Act)\n",
        "\n",
        "## You can run the cell above any number of times to generate new lists."
      ]
    },
    {
      "cell_type": "markdown",
      "metadata": {
        "id": "Ft0dXl7fUuaK"
      },
      "source": [
        "---\n",
        "### Exercise 1 - list head, tail and shape\n",
        "\n",
        "Write a function, **describe_list()** which will:\n",
        "*  print the length of the list `nums`\n",
        "*  print the first 10 items in `nums`  \n",
        "*  print the last 5 items in `nums`"
      ]
    },
    {
      "cell_type": "code",
      "metadata": {
        "id": "jUcZD7mmTJdA",
        "outputId": "2af67131-8506-4fad-f2ff-88850c99009e",
        "colab": {
          "base_uri": "https://localhost:8080/"
        }
      },
      "source": [
        "def describe_list():\n",
        "  print(\"Length of te list\",len(nums))\n",
        "  print(\"First 10 items\",nums[:10])\n",
        "  print(\"Last item\",nums[-5:])\n",
        "describe_list()"
      ],
      "execution_count": null,
      "outputs": [
        {
          "output_type": "stream",
          "name": "stdout",
          "text": [
            "Length of te list 1000\n",
            "First 10 items [39, 63, 76, 12, 18, 33, 97, 87, 24, 26]\n",
            "Last item [60, 8, 83, 1, 56]\n"
          ]
        }
      ]
    },
    {
      "cell_type": "markdown",
      "metadata": {
        "id": "yNWg08k6bXv0"
      },
      "source": [
        "---\n",
        "### Exercise 2 - show tuple items\n",
        "\n",
        "Write a function which will:\n",
        "*   use a loop to print the list of protected characteristics from the `protected_characteristics` tuple.\n"
      ]
    },
    {
      "cell_type": "code",
      "metadata": {
        "id": "P2HnCG9pb1BS",
        "outputId": "90dd954b-176b-4aff-af00-02793002402f",
        "colab": {
          "base_uri": "https://localhost:8080/"
        }
      },
      "source": [
        "def get_protected_characteristics():\n",
        "  characteristics_tuple = ('age','disability','gender reassignment','marriage and civil partnership','pregnancy and maternity','race','religion or belief','sex','sexual orientation')\n",
        "  print(characteristics_tuple)\n",
        "get_protected_characteristics()"
      ],
      "execution_count": 34,
      "outputs": [
        {
          "output_type": "stream",
          "name": "stdout",
          "text": [
            "('age', 'disability', 'gender reassignment', 'marriage and civil partnership', 'pregnancy and maternity', 'race', 'religion or belief', 'sex', 'sexual orientation')\n"
          ]
        }
      ]
    },
    {
      "cell_type": "markdown",
      "metadata": {
        "id": "RTSuQZs4b1JU"
      },
      "source": [
        "---\n",
        "### Exercise 3 - list a random subset\n",
        "\n",
        "Write a function which will:\n",
        "*  calculate the position of the middle item in the `characteristics` list   \n",
        "(*Hint: use len() to help with this*)\n",
        "*  calculate the position of the item that is 5 places before the middle item\n",
        "*  calculate the position of the item that is 5 places after the middle item\n",
        "*  print the part of the list that includes the items from 5 places before to 5 places after.  \n",
        "\n",
        "Expected output:  \n",
        "Your list will include 11 items."
      ]
    },
    {
      "cell_type": "code",
      "metadata": {
        "id": "OwhFnH2kdC11",
        "outputId": "c8460ae6-9a08-4d0e-8ca4-7121fdf82526",
        "colab": {
          "base_uri": "https://localhost:8080/"
        }
      },
      "source": [
        "def characteristics_list(input_item):\n",
        "    middle_item = len(input_item) // 2\n",
        "    start_item = middle_item - 5\n",
        "    end_item = middle_item + 5\n",
        "    start_item = max(start_item, 0)\n",
        "    end_item = min(end_item, len(input_item))\n",
        "    subset = input_item[start_item:end_item + 1]\n",
        "\n",
        "    print(\"List includes\", len(subset), \"items.\")\n",
        "    for item in subset:\n",
        "        print(item)\n",
        "my_list = [1,2,3,4,5,6,7,8,9,10,11]\n",
        "characteristics_list(my_list)\n",
        "\n"
      ],
      "execution_count": 33,
      "outputs": [
        {
          "output_type": "stream",
          "name": "stdout",
          "text": [
            "List includes 11 items.\n",
            "1\n",
            "2\n",
            "3\n",
            "4\n",
            "5\n",
            "6\n",
            "7\n",
            "8\n",
            "9\n",
            "10\n",
            "11\n"
          ]
        }
      ]
    },
    {
      "cell_type": "markdown",
      "metadata": {
        "id": "KS0x3oFNePI9"
      },
      "source": [
        "---\n",
        "### Exercise 4 - create a copy\n",
        "\n",
        "Write a function which will: use a for loop to create a copy of the `nums` list:\n",
        "\n",
        "*   create a new, empty, list called **new_nums**  (*Hint: an empty list is [ ]*)\n",
        "*   use a for loop which uses the following syntax:  `for num in nums:`\n",
        "*   each time round the loop append `num` to `new_nums`  ( *`new_nums.append(num)`*)\n",
        "*   print the first 10 items of `new_nums`\n",
        "*   print the first 10 items of `nums`\n",
        "*   print the length of both lists"
      ]
    },
    {
      "cell_type": "code",
      "metadata": {
        "id": "mpK1Ip3we-uC",
        "outputId": "8d78f1db-9399-45f4-b707-4297f8c0b626",
        "colab": {
          "base_uri": "https://localhost:8080/"
        }
      },
      "source": [
        "def create_copy (nums):\n",
        "    new_nums = []\n",
        "    for num in nums:\n",
        "     new_nums.append(num)\n",
        "    print(\"First 10 items of new_nums:\")\n",
        "    print(new_nums[:10])\n",
        "    print(\"\\nFirst 10 items of nums:\")\n",
        "    print(nums[:10])\n",
        "    print(\"\\nLength of new_nums:\", len(new_nums))\n",
        "    print(\"Length of nums:\", len(nums))\n",
        "nums = [1,2,3,4,5,6,7,8,9,10,11,12,13,14,15]\n",
        "create_copy (nums)"
      ],
      "execution_count": null,
      "outputs": [
        {
          "output_type": "stream",
          "name": "stdout",
          "text": [
            "First 10 items of new_nums:\n",
            "[1, 2, 3, 4, 5, 6, 7, 8, 9, 10]\n",
            "\n",
            "First 10 items of nums:\n",
            "[1, 2, 3, 4, 5, 6, 7, 8, 9, 10]\n",
            "\n",
            "Length of new_nums: 15\n",
            "Length of nums: 15\n"
          ]
        }
      ]
    },
    {
      "cell_type": "markdown",
      "metadata": {
        "id": "deUIFWjRe-3G"
      },
      "source": [
        "\n",
        "\n",
        "```\n",
        "# This is formatted as code\n",
        "```\n",
        "\n",
        "---\n",
        "### Exercise 5 - count the occurrence of age in characteristics\n",
        "\n",
        "Write a function which will use the list method:\n",
        "\n",
        "`num_items = list_name.count(item)`\n",
        "\n",
        "to count the number of occurrences of 'age' in the `characteristics` list.  Print the result."
      ]
    },
    {
      "cell_type": "code",
      "metadata": {
        "id": "b9TrHQ9hfoIU",
        "outputId": "eca87183-52d1-468c-84b4-12b90ad7a91b",
        "colab": {
          "base_uri": "https://localhost:8080/"
        }
      },
      "source": [
        "def count_age_occurrence(characteristics):\n",
        "    num_items = characteristics.count('age')\n",
        "    return num_items\n",
        "characteristics = ['gender', 'age', 'income', 'age', 'education', 'age']\n",
        "age_count = count_age_occurrence(characteristics)\n",
        "print(\"Number of occurrences of 'age' in the list:\", age_count)\n",
        "\n"
      ],
      "execution_count": null,
      "outputs": [
        {
          "output_type": "stream",
          "name": "stdout",
          "text": [
            "Number of occurrences of 'age' in the list: 3\n"
          ]
        }
      ]
    },
    {
      "cell_type": "markdown",
      "metadata": {
        "id": "zm2VI5RmfoSy"
      },
      "source": [
        "---\n",
        "### Exercise 6 - sort the nums list\n",
        "\n",
        "Write a function which will:\n",
        "*   call the function `get_num_list()` and store the result in a new list called **sort_nums**\n",
        "*   print the first, and last, 20 items in the `sort_nums` list\n",
        "*   use the `list_name.sort()` method to sort the `sort_nums` list into ascending order\n",
        "*   print the first, and last, 20 items again  \n",
        "*   use the `list_name.sort()` method again to sort the `sort_nums` list into descending order\n",
        "*   print the first, and last, 20 items again"
      ]
    },
    {
      "cell_type": "code",
      "metadata": {
        "id": "Fksgpj9JgWDs",
        "outputId": "722fcf5f-0214-4981-824f-6d3551516522",
        "colab": {
          "base_uri": "https://localhost:8080/"
        }
      },
      "source": [
        "nums = [4, 5, 8, 1, 9, 2, 7, 3, 6, 10]\n",
        "def sort_and_print_nums(nums):\n",
        "    sort_nums = nums.copy()\n",
        "    print(\"First 20 items in the list :\",sort_nums[:20])\n",
        "    print(\"Last 20 items in the list: \",sort_nums[-20:])\n",
        "    sort_nums.sort()\n",
        "    print(\"First 20 items in ascending order:\", sort_nums[:20])\n",
        "    print(\"Last 20 items in ascending order:\", sort_nums[-20:])\n",
        "    sort_nums.sort(reverse=True)\n",
        "    print(\"First 20 items in descending order:\", sort_nums[:20])\n",
        "    print(\"Last 20 items in descending order:\", sort_nums[-20:])\n",
        "sort_and_print_nums(nums)\n"
      ],
      "execution_count": null,
      "outputs": [
        {
          "output_type": "stream",
          "name": "stdout",
          "text": [
            "First 20 items in the list : [4, 5, 8, 1, 9, 2, 7, 3, 6, 10]\n",
            "Last 20 items in the list:  [4, 5, 8, 1, 9, 2, 7, 3, 6, 10]\n",
            "First 20 items in ascending order: [1, 2, 3, 4, 5, 6, 7, 8, 9, 10]\n",
            "Last 20 items in ascending order: [1, 2, 3, 4, 5, 6, 7, 8, 9, 10]\n",
            "First 20 items in descending order: [10, 9, 8, 7, 6, 5, 4, 3, 2, 1]\n",
            "Last 20 items in descending order: [10, 9, 8, 7, 6, 5, 4, 3, 2, 1]\n"
          ]
        }
      ]
    },
    {
      "cell_type": "markdown",
      "metadata": {
        "id": "_OF-Xuj1UrW0"
      },
      "source": [
        "---\n",
        "### Exercise 7 - get statistics (max(), min(), sum() )\n",
        "\n",
        "Write a function which will:\n",
        "*   print the maximum and minimum numbers in the `nums` list  \n",
        "*   print the sum of the `nums` list\n",
        "*   calculate and print the average of the `nums` list (using `len()` to help)"
      ]
    },
    {
      "cell_type": "code",
      "source": [
        "def get_statistics(nums):\n",
        "    if not nums:\n",
        "        print(\"The list is empty.\")\n",
        "        return\n",
        "\n",
        "    max_num = max(nums)\n",
        "    min_num = min(nums)\n",
        "    total = sum(nums)\n",
        "    average = total / len(nums)\n",
        "\n",
        "    print(\"Maximum number:\", max_num)\n",
        "    print(\"Minimum number:\", min_num)\n",
        "    print(\"Sum of numbers:\", total)\n",
        "    print(\"Average of numbers:\", average)\n",
        "nums = [1, 2, 3, 4, 5,6,7,8,9]\n",
        "get_statistics(nums)\n",
        "\n",
        "\n",
        "\n",
        "\n"
      ],
      "metadata": {
        "id": "P3c0Vyvm9cOy",
        "outputId": "2a8d3e12-3580-4450-8f80-0ff72e11474c",
        "colab": {
          "base_uri": "https://localhost:8080/"
        }
      },
      "execution_count": 30,
      "outputs": [
        {
          "output_type": "stream",
          "name": "stdout",
          "text": [
            "Maximum number: 9\n",
            "Minimum number: 1\n",
            "Sum of numbers: 45\n",
            "Average of numbers: 5.0\n"
          ]
        }
      ]
    },
    {
      "cell_type": "code",
      "metadata": {
        "id": "9YmYMenZVGod"
      },
      "source": [],
      "execution_count": null,
      "outputs": []
    },
    {
      "cell_type": "markdown",
      "metadata": {
        "id": "Mn4tHQ_KVbHa"
      },
      "source": [
        "---\n",
        "### Exercise 8 - percentage difference\n",
        "\n",
        "Write a function which will:\n",
        "*   generate a new list called **ex8_nums** using `get_num_list()`\n",
        "*   calculate and print the percentage difference between the first number in each list (as a percentage of the number in the nums list) (Hint:  find the difference between the two numbers, divide the difference by the number in `nums` and multiply by 100)\n",
        "*   calculate and print the percentage difference between the last numbers in each list in the same way\n",
        "*   calculate and print the percentage difference between the middle numbers in each list in the same way.\n",
        "*   calculate and print the percentage difference between the sums of each list in the same way"
      ]
    },
    {
      "cell_type": "code",
      "metadata": {
        "id": "nJCQjZIeZL0e",
        "colab": {
          "base_uri": "https://localhost:8080/"
        },
        "outputId": "9236c8e3-4d87-4461-acda-3e77fbacc5ed"
      },
      "source": [
        "def generate_ex8_nums():\n",
        "    ex8_nums = []\n",
        "    for i in range(1, 11):\n",
        "        ex8_nums.append(i)\n",
        "    print(\"Generated list ex8_nums:\", ex8_nums)\n",
        "    first_num_nums = ex8_nums[0]\n",
        "    first_num_ex8 = ex8_nums[0]\n",
        "    percentage_difference_first = ((first_num_ex8 - first_num_nums) / first_num_nums) * 100\n",
        "    print(\"Percentage difference for the first number:\", percentage_difference_first, \"%\")\n",
        "    last_num_nums = ex8_nums[-1]\n",
        "    last_num_ex8 = ex8_nums[-1]\n",
        "    percentage_difference_last = ((last_num_ex8 - last_num_nums) / last_num_nums) * 100\n",
        "    print(\"Percentage difference for the last number:\", percentage_difference_last, \"%\")\n",
        "    middle_index = len(ex8_nums) // 2\n",
        "    middle_num_nums = ex8_nums[middle_index]\n",
        "    middle_num_ex8 = ex8_nums[middle_index]\n",
        "    difference_middle = middle_num_ex8 - middle_num_nums\n",
        "    percentage_difference_middle = (difference_middle / middle_num_nums) * 100\n",
        "    print(\"Percentage difference for the middle number:\", percentage_difference_middle, \"%\")\n",
        "    sum_nums = sum(ex8_nums)\n",
        "    difference_sum = sum_nums - sum_nums\n",
        "    percentage_difference_sum = (difference_sum / sum_nums) * 100\n",
        "    print(\"Percentage difference for the sum:\", percentage_difference_sum, \"%\")\n",
        "generate_ex8_nums()\n",
        "\n",
        "\n",
        "\n",
        "\n",
        "\n",
        "\n",
        "\n",
        "\n",
        "\n",
        "\n",
        ""
      ],
      "execution_count": 4,
      "outputs": [
        {
          "output_type": "stream",
          "name": "stdout",
          "text": [
            "Generated list ex8_nums: [1, 2, 3, 4, 5, 6, 7, 8, 9, 10]\n",
            "Percentage difference for the first number: 0.0 %\n",
            "Percentage difference for the last number: 0.0 %\n",
            "Percentage difference for the middle number: 0.0 %\n",
            "Percentage difference for the sum: 0.0 %\n"
          ]
        }
      ]
    },
    {
      "cell_type": "markdown",
      "metadata": {
        "id": "HNs3lZmYawFO"
      },
      "source": [
        "---\n",
        "### Exercise 9 - characteristic counts\n",
        "\n",
        "Write a function which will:\n",
        "*  iterate through the `protected_characteristics` tuple and for each **characteristic**:\n",
        "*   *   count the number of occurrences of that `characteristic` in the `characteristics` list\n",
        "*   *   print the `protected_characteristic` and the **count**  \n",
        "\n",
        "Example expected output:\n",
        "\n",
        "age 100  \n",
        "disability 120  \n",
        "gender reassignment 120  \n",
        "marriage and civil partnership 111  \n",
        "pregnancy and maternity 103  \n",
        "race 106  \n",
        "religion or belief 95  \n",
        "sex 110  \n",
        "sexual orientation 113  \n",
        "\n",
        "Extra learning:  you can read [here](https://thispointer.com/python-how-to-pad-strings-with-zero-space-or-some-other-character/) how to justify the printed characteristic so that the output is organised into two columns as shown below:  \n",
        "![tabulated output](https://drive.google.com/uc?id=1CCXfX6K5ZeDefnq7vUsqxCDmqvcfY8Mz)\n",
        "\n",
        "\n",
        "\n"
      ]
    },
    {
      "cell_type": "code",
      "metadata": {
        "id": "GURT11albqUs",
        "colab": {
          "base_uri": "https://localhost:8080/"
        },
        "outputId": "34ce449b-0b95-49e7-ecfb-30259f8e90da"
      },
      "source": [
        "def count_characteristics(characteristics, protected_characteristics):\n",
        "    for characteristic in protected_characteristics:\n",
        "        count = characteristics.count(characteristic)\n",
        "        print(f\"{characteristic}: {count}\")\n",
        "\n",
        "protected_characteristics = ('age', 'disability', 'gender', 'race','religion or belief','pregnancy and maternity')\n",
        "characteristics = ['age', 'gender', 'race', 'age', 'gender', 'disability', 'race''religion or belief','pregnancy and maternity']\n",
        "\n",
        "count_characteristics(characteristics, protected_characteristics)"
      ],
      "execution_count": 2,
      "outputs": [
        {
          "output_type": "stream",
          "name": "stdout",
          "text": [
            "age: 2\n",
            "disability: 1\n",
            "gender: 2\n",
            "race: 1\n",
            "religion or belief: 0\n",
            "pregnancy and maternity: 1\n"
          ]
        }
      ]
    },
    {
      "cell_type": "markdown",
      "metadata": {
        "id": "9Po7yQj-ds38"
      },
      "source": [
        "---\n",
        "### Exercise 10 - characteristics statistics\n",
        "\n",
        "Assuming that the `characteristics` list may have been taken from a study of cases that have been taken to court in relation to the Equality Act.  \n",
        "\n",
        "Write a function which will:\n",
        "\n",
        "*   find the most common characteristic resulting in court action, from this population\n",
        "*   print this in a message, e.g. The characteristic with the highest number of court cases is:  *characteristic*\n",
        "*   print the list of `protected_characteristics`, on one line if possible - see [here](https://www.geeksforgeeks.org/g-fact-25-print-single-multiple-variable-python/)\n",
        "*   ask the user to enter a characteristic that they would like to see statistics on and use a while loop to continue until the user has entered a valid characteristic\n",
        "*   print the characteristic, its frequency and the percentage that this frequency is of the whole population."
      ]
    },
    {
      "cell_type": "code",
      "metadata": {
        "id": "uk_I5z7UgbDs",
        "colab": {
          "base_uri": "https://localhost:8080/"
        },
        "outputId": "a9597caa-faeb-45fe-9e4f-0d2333bed5e2"
      },
      "source": [
        "def find_most_common_characteristic(characteristics, protected_characteristics):\n",
        "  characteristic_counts = {}\n",
        "  for characteristic in characteristics:\n",
        "        if characteristic in characteristic_counts:\n",
        "            characteristic_counts[characteristic] += 1\n",
        "        else:\n",
        "            characteristic_counts[characteristic] = 1\n",
        "        most_common_characteristic = max(characteristic_counts, key=characteristic_counts.get)\n",
        "        print(f\"The characteristic with the highest number of court cases is: {most_common_characteristic}\")\n",
        "        print(\"Protected characteristics:\", \", \".join(protected_characteristics))\n",
        "  while True:\n",
        "      user_characteristic = input(\"Enter a characteristic to see statistics: \")\n",
        "      if user_characteristic in protected_characteristics:\n",
        "         user_characteristic_count = characteristic_counts[user_characteristic]\n",
        "         total_cases = len(characteristics)\n",
        "\n",
        "         percentage = (user_characteristic_count / total_cases) * 100\n",
        "         print(f\"Characteristic: {user_characteristic}\")\n",
        "         print(f\"Frequency: {user_characteristic_count}\")\n",
        "         print(f\"Percentage of population: {percentage}%\")\n",
        "         break\n",
        "      else:\n",
        "         print(\"Invalid characteristic. Please choose from the protected characteristics.\")\n",
        "characteristics = ['age', 'gender', 'race', 'age', 'gender', 'age']\n",
        "protected_characteristics = ('age', 'disability', 'gender', 'race')\n",
        "find_most_common_characteristic(characteristics, protected_characteristics)\n",
        "\n"
      ],
      "execution_count": 28,
      "outputs": [
        {
          "output_type": "stream",
          "name": "stdout",
          "text": [
            "The characteristic with the highest number of court cases is: age\n",
            "Protected characteristics: age, disability, gender, race\n",
            "The characteristic with the highest number of court cases is: age\n",
            "Protected characteristics: age, disability, gender, race\n",
            "The characteristic with the highest number of court cases is: age\n",
            "Protected characteristics: age, disability, gender, race\n",
            "The characteristic with the highest number of court cases is: age\n",
            "Protected characteristics: age, disability, gender, race\n",
            "The characteristic with the highest number of court cases is: age\n",
            "Protected characteristics: age, disability, gender, race\n",
            "The characteristic with the highest number of court cases is: age\n",
            "Protected characteristics: age, disability, gender, race\n",
            "Enter a characteristic to see statistics: age\n",
            "Characteristic: age\n",
            "Frequency: 3\n",
            "Percentage of population: 50.0%\n"
          ]
        }
      ]
    }
  ]
}