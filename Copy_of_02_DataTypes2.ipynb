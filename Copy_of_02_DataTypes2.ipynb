{
  "nbformat": 4,
  "nbformat_minor": 0,
  "metadata": {
    "colab": {
      "provenance": [],
      "toc_visible": true,
      "include_colab_link": true
    },
    "kernelspec": {
      "name": "python3",
      "display_name": "Python 3"
    }
  },
  "cells": [
    {
      "cell_type": "markdown",
      "metadata": {
        "id": "view-in-github",
        "colab_type": "text"
      },
      "source": [
        "<a href=\"https://colab.research.google.com/github/ind222/python-fundamentals/blob/python-fundamentals-Ind/Copy_of_02_DataTypes2.ipynb\" target=\"_parent\"><img src=\"https://colab.research.google.com/assets/colab-badge.svg\" alt=\"Open In Colab\"/></a>"
      ]
    },
    {
      "cell_type": "markdown",
      "metadata": {
        "id": "3O7iro_BV0mL"
      },
      "source": [
        "# Data Types and Operators\n",
        "\n",
        "---"
      ]
    },
    {
      "cell_type": "markdown",
      "metadata": {
        "id": "ZQgTpaaKLIsF"
      },
      "source": [
        "# Changing Data Input Type\n",
        "**Recap**: to get input from the user and store it in a variable, use the instruction  \n",
        "\n",
        "*variableName = input(\"message asking user for required information\")  *\n",
        "\n",
        "**Remember**: Unless you state otherwise, all input is String data  \n",
        "\n",
        "Integers are whole numbers and can be both positive or negative.  \n",
        "Floats are decimal numbers which have a 'floating' decimal point.  \n",
        "To change the input data type, we can specify the type of data we would like from the user  \n",
        "\n",
        "*variableNameInteger = int(input(\"Please input a whole number \"))*  \n",
        "\n",
        "*variableNameFloat = float(input(\"Please input a decimal number \")) *\n",
        "\n",
        "By using either *int()* or *float()* it tells Python what kind of data will be stored in the variable  \n"
      ]
    },
    {
      "cell_type": "code",
      "metadata": {
        "id": "5usXzQ4OLDx3"
      },
      "source": [],
      "execution_count": null,
      "outputs": []
    },
    {
      "cell_type": "markdown",
      "metadata": {
        "id": "y9KJWVXhLcAB"
      },
      "source": [
        "---\n",
        "### Exercise 1 - changing data type\n",
        "Write a function called **print_details()** which will:  \n",
        "\n",
        "*  ask the user their name, age and height in metres  \n",
        "*  print the message Hello `name` you are `age` years old and `height` metres tall  \n",
        "\n",
        "*Remember to specify the correct data type for each input*   \n",
        "\n",
        "Test Input:  \n",
        "Jean  \n",
        "52  \n",
        "2.3  \n",
        "\n",
        "Expected Output:  \n",
        "Hello Jean you are 52 years old and 2.3 metres tall\n"
      ]
    },
    {
      "cell_type": "code",
      "metadata": {
        "id": "zA85A39JLzfF",
        "outputId": "ebcbdcc0-fb9a-4d12-90d3-61a65351d6bf",
        "colab": {
          "base_uri": "https://localhost:8080/"
        }
      },
      "source": [
        "def print_details():\n",
        " name = input(\"Enter your Name:\")\n",
        " age = int(input(\"Enter your age:\"))\n",
        " height = float(input(\"Enter height in metres\"))\n",
        " print(\"Hello\",name,\"you are\",age,\"years old and\",height,\"metres tall\")\n",
        "print_details()\n",
        "\n",
        "\n",
        "\n",
        "\n"
      ],
      "execution_count": null,
      "outputs": [
        {
          "output_type": "stream",
          "name": "stdout",
          "text": [
            "Enter your Name:john\n",
            "Enter your age:56\n",
            "Enter height in metres3.45\n",
            "Hello john you are 56 years old and 3.45 metres tall\n"
          ]
        }
      ]
    },
    {
      "cell_type": "markdown",
      "metadata": {
        "id": "_tBD2cGDW1GB"
      },
      "source": [
        "---\n",
        "### Exercise 2 - boolean variables\n",
        "\n",
        "A **boolean variable** can hold just two values, True or False.  This type of variable is hugely valuable in holding onto the state of things.  For example, a boolean variable called loggedIn might hold True if the user is loggedIn and False otherwise.  This means that at any point while a program is running, it is possible to ask the question \"Is the user logged in?\".  The answer will depend on the value of the variable loggedIn.  \n",
        "\n",
        "Although we will use the values True and False as words, Python stores them as 1 for true and 0 for false.   \n",
        "\n",
        "To demonstrate this, write a function called **show_trueFalse()** which will:  \n",
        "\n",
        "*  create a variable called **logged_in** and assign it the value True (use the assignment operator **=** the same as usual)  \n",
        "*  create a variable called **logged_in_as_num** and assign it the value int(True)  \n",
        "*  print `logged_in` and `logged_in_as_num`\n",
        "\n",
        "Expected output:  \n",
        "True 1\n",
        "\n",
        "When you have run this, change True to False in both places.\n",
        "\n",
        "Expected output:  \n",
        "False 0\n"
      ]
    },
    {
      "cell_type": "code",
      "metadata": {
        "id": "XNHcNQEKW8xj",
        "outputId": "98c69ff9-c679-4128-f7d2-bb0727653a71",
        "colab": {
          "base_uri": "https://localhost:8080/"
        }
      },
      "source": [
        "def show_trueFalse():\n",
        " logged_in = True\n",
        " logged_in_as_num = int(True)\n",
        " print(logged_in,logged_in_as_num)\n",
        "show_trueFalse()\n",
        "logged_in =  False\n",
        "logged_in_as_num = int(False)\n",
        "print(logged_in,logged_in_as_num)\n"
      ],
      "execution_count": null,
      "outputs": [
        {
          "output_type": "stream",
          "name": "stdout",
          "text": [
            "True 1\n",
            "False 0\n"
          ]
        }
      ]
    },
    {
      "cell_type": "markdown",
      "metadata": {
        "id": "r8O47uBPW9Gy"
      },
      "source": [
        "---\n",
        "### Exercise 3 - converting float to int\n",
        "\n",
        "Write a function called **count_poundCoins()** which will:  \n",
        "\n",
        "*  ask the user to enter an amount in pounds and pence and assign this value to a float variable called **pounds_pence**  \n",
        "*  convert the float variable to int and assign this value to a variable called **pound_coins**  \n",
        "*  print the message Number of pound coins `pound_coins`  \n",
        "\n",
        "Test input:  \n",
        "3.48  \n",
        "\n",
        "Expected output:  \n",
        "Number of pound coins 3\n",
        "\n"
      ]
    },
    {
      "cell_type": "code",
      "metadata": {
        "id": "aTO1l1iNXUNt",
        "outputId": "a6ec183f-13b8-4589-862e-c50a48120539",
        "colab": {
          "base_uri": "https://localhost:8080/"
        }
      },
      "source": [
        "def count_poundCoins():\n",
        " pounds_pence = float(input(\"enter amounts in pounds: \"))\n",
        " pounds_coins = int(pounds_pence)\n",
        " print(\"number of pounds in coins:\",pounds_coins)\n",
        "count_poundCoins()\n",
        "\n",
        "#  print(\"no. of pounds in coins\")\n",
        "\n"
      ],
      "execution_count": null,
      "outputs": [
        {
          "output_type": "stream",
          "name": "stdout",
          "text": [
            "enter amounts in pounds: 3.48\n",
            "number of pounds in coins: 3\n"
          ]
        }
      ]
    },
    {
      "cell_type": "markdown",
      "metadata": {
        "id": "Wy_L3E_-XUWa"
      },
      "source": [
        "---\n",
        "### Exercise 4 - converting int to string\n",
        "\n",
        "Write a function called **format_currency()** which will:\n",
        "\n",
        "*  ask the user to enter a number of pounds and assign this to an integer variable called **num_pounds**  \n",
        "*  convert numPounds to a string and assign it to a variable called **pounds**  \n",
        "*  create a String variable called **currency** which has a \"£\", pounds, \".00\" joined together\n",
        "*  print the resulting currency, including the £ sign  \n",
        "\n",
        "Test input:  \n",
        "4\n",
        "\n",
        "Expected output:  \n",
        "£4.00\n"
      ]
    },
    {
      "cell_type": "code",
      "metadata": {
        "id": "2hHoJyjMXXUK",
        "outputId": "87caf711-60cd-45f0-d84f-0394001377e0",
        "colab": {
          "base_uri": "https://localhost:8080/"
        }
      },
      "source": [
        "def format_currency():\n",
        " num_pounds = int(input(\"Enter no of pounds :\"))\n",
        " pounds = str(num_pounds)\n",
        " currency = \"£\" + pounds + \".00\"\n",
        " print(currency)\n",
        "format_currency()"
      ],
      "execution_count": null,
      "outputs": [
        {
          "output_type": "stream",
          "name": "stdout",
          "text": [
            "Enter no of pounds :8\n",
            "£8.00\n"
          ]
        }
      ]
    },
    {
      "cell_type": "markdown",
      "metadata": {
        "id": "nBZqJ5d7XXdc"
      },
      "source": [
        "---\n",
        "### Exercise 5 - area of a circle\n",
        "\n",
        "Write a function called **calculate_area()** which will:\n",
        "\n",
        "*  ask the user to enter the **radius** of a circle (which could be a float or an int)  \n",
        "*  create a variable called **pi** and assign it the value 3.14159\n",
        "*  calculate the **area** of the circle (`area = pi * radius * radius`)  \n",
        "*  print the area of the circle to 2 decimal places (`print(round(area, 2))` ).  \n",
        "\n",
        "Test input:  \n",
        "5\n",
        "\n",
        "Expected output:  \n",
        "78.54"
      ]
    },
    {
      "cell_type": "code",
      "metadata": {
        "id": "GbkuKY-_dwn0",
        "outputId": "5eee3fc7-afb3-4bbf-a5c1-8e6468c80c07",
        "colab": {
          "base_uri": "https://localhost:8080/"
        }
      },
      "source": [
        "def calculate_area():\n",
        "  radius = float(input(\"enter the circle readius:\"))\n",
        "  pi = 3.141\n",
        "  area = pi * radius *radius\n",
        "  print (round(area,2))\n",
        "calculate_area()\n",
        "\n"
      ],
      "execution_count": null,
      "outputs": [
        {
          "output_type": "stream",
          "name": "stdout",
          "text": [
            "enter the circle readius:5\n",
            "78.53\n"
          ]
        }
      ]
    },
    {
      "cell_type": "code",
      "source": [],
      "metadata": {
        "id": "ngprtjWcChMV"
      },
      "execution_count": null,
      "outputs": []
    }
  ]
}