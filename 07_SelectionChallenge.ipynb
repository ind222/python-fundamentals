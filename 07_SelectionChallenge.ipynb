{
  "nbformat": 4,
  "nbformat_minor": 0,
  "metadata": {
    "colab": {
      "name": "SelectionChallenge.ipynb",
      "provenance": [],
      "include_colab_link": true
    },
    "kernelspec": {
      "name": "python3",
      "display_name": "Python 3"
    }
  },
  "cells": [
    {
      "cell_type": "markdown",
      "metadata": {
        "id": "view-in-github",
        "colab_type": "text"
      },
      "source": [
        "<a href=\"https://colab.research.google.com/github/ind222/python-fundamentals/blob/main/07_SelectionChallenge.ipynb\" target=\"_parent\"><img src=\"https://colab.research.google.com/assets/colab-badge.svg\" alt=\"Open In Colab\"/></a>"
      ]
    },
    {
      "cell_type": "markdown",
      "metadata": {
        "id": "-QxAKPD8DZfj"
      },
      "source": [
        "# Three selection challenges\n",
        "\n",
        "---\n"
      ]
    },
    {
      "cell_type": "markdown",
      "metadata": {
        "id": "2KYUALILDcM9"
      },
      "source": [
        "### Challenge 1 - password format  \n",
        "\n",
        "Write a function called **check_password_valid()** which will check the validity of a **password** input by a user.\n",
        "\n",
        "Rules for a valid password are:  \n",
        "\n",
        "*  At least 1 letter between [a-z] and 1 letter between [A-Z].\n",
        "*  At least 1 number between [0-9].\n",
        "*  At least 1 character from [$#@].\n",
        "*  Minimum length 6 characters.\n",
        "*  Maximum length 16 characters.  \n",
        "\n",
        "Let the user know if the `password` they have typed is valid and, if not, where was the first error.\n",
        "\n",
        "*Hint:  to test if a set of characters is present in a password String, you can use re.search('[character set]', `password`)*  \n",
        "\n",
        "Example:   \n",
        "*if re.search('[a-z]',`password`):*    \n",
        "if there is at least 1 character a-z in the password, re.search will not be None.\n",
        "\n",
        "**re** is a pre-written Python function for pattern searching in Strings.  It has been imported for you in the code cell below.  "
      ]
    },
    {
      "cell_type": "code",
      "metadata": {
        "id": "8wBK9IA4BO2e",
        "colab": {
          "base_uri": "https://localhost:8080/"
        },
        "outputId": "64e135cd-7050-4d7a-9e9d-cd47af329c44"
      },
      "source": [
        "import re\n",
        "\n",
        "# add your check_PasswordValid() function and call below here\n",
        "def check_password_valid():\n",
        " #length_password = int(input(\"enter the password\"))\n",
        " #small_letter = input(\"Atleast 1 letter b/w a-z\")\n",
        " #capital_letter = input(\"Atleast 1 letter b/w A-Z\")\n",
        " #number = int(input(\"Atleast enter number 0 to 9\"))\n",
        " #characters = input(\"Enter the character €#@\")\n",
        " #length_password = 6\n",
        " #length_password = 16\n",
        " password = input(\"Enter a password: \")\n",
        " if len(password) < 6:\n",
        "  print(\"Pass word is too short ,(min 6 charaters)\")\n",
        " elif len(password) > 16:\n",
        "  print(\"Pass word id too long ,(max lenth 16 charaters)\")\n",
        "\n",
        " elif not re.search('[a-z]',password):\n",
        "  print(\"Password must contain lower character 'a to z'\")\n",
        " elif not re.search('[A-Z]',password):\n",
        "  print(\"Password must contain one upper character 'A to Z'\")\n",
        " elif not re.search('[0-9]',password):\n",
        "  print(\"Password must contain 0 to 9 \")\n",
        " elif not re.search('[#€@£]',password):\n",
        "  print(\"Password must contain #€@£ \")\n",
        " else:\n",
        "  print(\"password is  valid\")\n",
        "\n",
        "check_password_valid()\n",
        "\n",
        "\n",
        "\n"
      ],
      "execution_count": 12,
      "outputs": [
        {
          "output_type": "stream",
          "name": "stdout",
          "text": [
            "Enter a password: tyA@32hgf\n",
            "password is  valid\n"
          ]
        }
      ]
    },
    {
      "cell_type": "markdown",
      "metadata": {
        "id": "f0R4GYTEFQS-"
      },
      "source": [
        "---\n",
        "### Challenge 2 - triangle shape  \n",
        "\n",
        "Write a function called **evaluate_triangle_shape()** which will check if a triangle is equilateral, isosceles or scalene, based on the three side lengths entered by a user (**x**, **y** and **z**.\n",
        "\n",
        "An equilateral triangle is a triangle in which all three sides are equal.\n",
        "A scalene triangle is a triangle that has three unequal sides.\n",
        "An isosceles triangle is a triangle with (at least) two equal sides.\n",
        "\n",
        "For example:  \n",
        "A triange with side lengths                                 \n",
        "x: 6                                                                    \n",
        "y: 8                                                                    \n",
        "z: 12                                                                   \n",
        "is a *Scalene triangle*\n",
        "\n",
        "A triangle with side lengths\n",
        "x:5  \n",
        "y:3   \n",
        "z:5  \n",
        "is an *Isosceles triangle*"
      ]
    },
    {
      "cell_type": "code",
      "metadata": {
        "id": "oBgl4ro1DVL0",
        "colab": {
          "base_uri": "https://localhost:8080/"
        },
        "outputId": "b787dcdc-1485-4fde-e833-6453e692540c"
      },
      "source": [
        "def evaluate_triangle_shape():\n",
        "  x = float(input(\"Triangle with side lenths:\"))\n",
        "  y = float(input(\"Triangle with side lenths:\"))\n",
        "  z = float(input(\"Triangle with side lenths:\"))\n",
        "  if x == y == z :\n",
        "    print(\"Equilateral triangle\")\n",
        "  elif  x == y or y==z or x==z:\n",
        "    print(\"Isosceles triangle\")\n",
        "  else:\n",
        "    print(\"Scalene Triangle\")\n",
        "evaluate_triangle_shape()\n"
      ],
      "execution_count": 21,
      "outputs": [
        {
          "output_type": "stream",
          "name": "stdout",
          "text": [
            "Triangle with side lenths:23\n",
            "Triangle with side lenths:34\n",
            "Triangle with side lenths:45\n",
            "Scalene Triangle\n"
          ]
        }
      ]
    },
    {
      "cell_type": "markdown",
      "metadata": {
        "id": "hr2EotkqG33l"
      },
      "source": [
        "---\n",
        "### Challenge 3 - which season\n",
        "\n",
        "Write a function called **determine_season()** which will ask the user to enter two integers representing a **month** and **day** and prints the season for that month and day.\n",
        "\n",
        "Note:  for this exercise the season dates are:\n",
        "*  Winter December 21 to March 20    \n",
        "*  Spring March 21 to June 20  \n",
        "*  Summer June 21 to September 20  \n",
        "*  Autumn September 21 to December 20\n",
        "\n",
        "Test input:  \n",
        "Input the month (e.g. January, February etc.): 7                     \n",
        "Input the day: 31                                                       \n",
        "\n",
        "Expected output:  \n",
        "Season is summer\n",
        "\n",
        "*Note: this will require multiple and or or operators and you should use brackets to help Python know which operations to do first*  \n",
        "\n",
        "*For an extra challenge you can check that the day is valid for the month*"
      ]
    },
    {
      "cell_type": "code",
      "metadata": {
        "id": "cvbfz8nzG4IL",
        "colab": {
          "base_uri": "https://localhost:8080/"
        },
        "outputId": "ac9ffa15-4f3a-490b-97f2-928eb41321aa"
      },
      "source": [
        "def determine_season():\n",
        " Month = int(input(\"Enter a month and day:\"))\n",
        " Day = int(input(\"Enter Day\"))\n",
        " if (Month == 12 and Day >= 21 ) or (Month >= 2) or (Month == 3 and Day<=20):\n",
        "  print(\"Season is Winter\")\n",
        " elif (Month == 3 and Day >= 21 ) or (Month >= 4 and Month <= 6) or (Month == 6 and Day<=20):\n",
        "  print(\"Season is Spring\")\n",
        " elif (Month == 6 and Day >= 21 ) or (Month >= 7 and Month <=9) or (Month == 9 and Day<=20):\n",
        "  print(\"Season is Summer\")\n",
        " elif (Month == 9 and Day >= 21 ) or (Month >= 10 and Month <=12) or (Month == 12 and Day<=20):\n",
        "  print(\"Season is Autumn\")\n",
        " else:\n",
        "  print(Invalid)\n",
        "determine_season()"
      ],
      "execution_count": 26,
      "outputs": [
        {
          "output_type": "stream",
          "name": "stdout",
          "text": [
            "Enter a month and day:2\n",
            "Enter Day4\n",
            "Season is Winter\n"
          ]
        }
      ]
    }
  ]
}